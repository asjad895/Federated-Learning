{
 "cells": [
  {
   "cell_type": "code",
   "execution_count": 1,
   "id": "e5ed62dd",
   "metadata": {},
   "outputs": [],
   "source": [
    "from tensorflow.keras.applications import VGG16\n",
    "from tensorflow.keras.models import Model"
   ]
  },
  {
   "cell_type": "code",
   "execution_count": 2,
   "id": "57c72804",
   "metadata": {},
   "outputs": [
    {
     "name": "stdout",
     "output_type": "stream",
     "text": [
      "Model: \"vgg16\"\n",
      "_________________________________________________________________\n",
      " Layer (type)                Output Shape              Param #   \n",
      "=================================================================\n",
      " input_1 (InputLayer)        [(None, None, None, 3)]   0         \n",
      "                                                                 \n",
      " block1_conv1 (Conv2D)       (None, None, None, 64)    1792      \n",
      "                                                                 \n",
      " block1_conv2 (Conv2D)       (None, None, None, 64)    36928     \n",
      "                                                                 \n",
      " block1_pool (MaxPooling2D)  (None, None, None, 64)    0         \n",
      "                                                                 \n",
      " block2_conv1 (Conv2D)       (None, None, None, 128)   73856     \n",
      "                                                                 \n",
      " block2_conv2 (Conv2D)       (None, None, None, 128)   147584    \n",
      "                                                                 \n",
      " block2_pool (MaxPooling2D)  (None, None, None, 128)   0         \n",
      "                                                                 \n",
      " block3_conv1 (Conv2D)       (None, None, None, 256)   295168    \n",
      "                                                                 \n",
      " block3_conv2 (Conv2D)       (None, None, None, 256)   590080    \n",
      "                                                                 \n",
      " block3_conv3 (Conv2D)       (None, None, None, 256)   590080    \n",
      "                                                                 \n",
      " block3_pool (MaxPooling2D)  (None, None, None, 256)   0         \n",
      "                                                                 \n",
      " block4_conv1 (Conv2D)       (None, None, None, 512)   1180160   \n",
      "                                                                 \n",
      " block4_conv2 (Conv2D)       (None, None, None, 512)   2359808   \n",
      "                                                                 \n",
      " block4_conv3 (Conv2D)       (None, None, None, 512)   2359808   \n",
      "                                                                 \n",
      " block4_pool (MaxPooling2D)  (None, None, None, 512)   0         \n",
      "                                                                 \n",
      " block5_conv1 (Conv2D)       (None, None, None, 512)   2359808   \n",
      "                                                                 \n",
      " block5_conv2 (Conv2D)       (None, None, None, 512)   2359808   \n",
      "                                                                 \n",
      " block5_conv3 (Conv2D)       (None, None, None, 512)   2359808   \n",
      "                                                                 \n",
      " block5_pool (MaxPooling2D)  (None, None, None, 512)   0         \n",
      "                                                                 \n",
      "=================================================================\n",
      "Total params: 14714688 (56.13 MB)\n",
      "Trainable params: 0 (0.00 Byte)\n",
      "Non-trainable params: 14714688 (56.13 MB)\n",
      "_________________________________________________________________\n"
     ]
    }
   ],
   "source": [
    "base_model = VGG16(weights='imagenet', include_top=False)\n",
    "base_model.trainable=False\n",
    "base_model.summary()"
   ]
  },
  {
   "cell_type": "code",
   "execution_count": 3,
   "id": "390f2217",
   "metadata": {},
   "outputs": [],
   "source": [
    "feature_extractor_model = Model(inputs=base_model.input, outputs=[base_model.get_layer('block1_conv2').output,\n",
    "                                                                    base_model.get_layer('block2_conv2').output,\n",
    "                                                                    base_model.get_layer('block3_conv3').output,\n",
    "                                                                    base_model.get_layer('block4_conv3').output,\n",
    "                                                                    base_model.get_layer('block5_conv3').output])"
   ]
  },
  {
   "cell_type": "code",
   "execution_count": 4,
   "id": "f1fb04ec",
   "metadata": {},
   "outputs": [],
   "source": [
    "import tensorflow as tf\n",
    "import numpy as np\n",
    "import matplotlib.pyplot as plt\n",
    "cifar = tf.keras.datasets.cifar10\n",
    "(x_train, _), (x_test, _) = cifar.load_data()"
   ]
  },
  {
   "cell_type": "code",
   "execution_count": 5,
   "id": "5c06355d",
   "metadata": {},
   "outputs": [],
   "source": [
    "image1 = x_train[5]\n",
    "image2 = x_train[8]\n",
    "\n",
    "array1 = np.array(image1)\n",
    "array2 = np.array(image2)"
   ]
  },
  {
   "cell_type": "code",
   "execution_count": 6,
   "id": "55902b55",
   "metadata": {},
   "outputs": [
    {
     "data": {
      "image/png": "[encoded data removed]",
      "text/plain": [
       "<Figure size 640x480 with 2 Axes>"
      ]
     },
     "metadata": {},
     "output_type": "display_data"
    }
   ],
   "source": [
    "fig, axes = plt.subplots(1, 2)\n",
    "axes[0].imshow(image1)\n",
    "axes[0].set_title('Image 1')\n",
    "axes[1].imshow(image2)\n",
    "axes[1].set_title('Image 2')\n",
    "plt.show()"
   ]
  },
  {
   "cell_type": "code",
   "execution_count": 7,
   "id": "8c5bffa5",
   "metadata": {},
   "outputs": [],
   "source": [
    "image1 = np.expand_dims(image1, axis=0)\n",
    "image2 = np.expand_dims(image2, axis=0)"
   ]
  },
  {
   "cell_type": "code",
   "execution_count": 8,
   "id": "8b16ddac",
   "metadata": {},
   "outputs": [
    {
     "name": "stdout",
     "output_type": "stream",
     "text": [
      "1/1 [==============================] - 3s 3s/step\n",
      "1/1 [==============================] - 0s 42ms/step\n"
     ]
    }
   ],
   "source": [
    "features_image1 = feature_extractor_model.predict(image1)\n",
    "features_image2 = feature_extractor_model.predict(image2)"
   ]
  },
  {
   "cell_type": "code",
   "execution_count": 9,
   "id": "d05ebff0",
   "metadata": {},
   "outputs": [
    {
     "data": {
      "text/plain": [
       "(1, 32, 32, 64)"
      ]
     },
     "execution_count": 9,
     "metadata": {},
     "output_type": "execute_result"
    }
   ],
   "source": [
    "features_image1[0].shape"
   ]
  },
  {
   "cell_type": "code",
   "execution_count": 10,
   "id": "a28aaa05",
   "metadata": {},
   "outputs": [],
   "source": [
    "from sklearn.metrics.pairwise import euclidean_distances, cosine_similarity\n",
    "euclidean_distances_list = []\n",
    "cosine_similarities_list = []\n",
    "for i in range(len(features_image1)):\n",
    "    # Flatten the feature maps\n",
    "    flat_features_image1 = features_image1[i].flatten()\n",
    "    flat_features_image2 = features_image2[i].flatten()\n",
    "    \n",
    "    euclidean_distance = euclidean_distances([flat_features_image1], [flat_features_image2])\n",
    "    cosine_similarity_score = cosine_similarity([flat_features_image1], [flat_features_image2])\n",
    "\n",
    "    euclidean_distances_list.append(euclidean_distance)\n",
    "    cosine_similarities_list.append(cosine_similarity_score)\n",
    "\n"
   ]
  },
  {
   "cell_type": "code",
   "execution_count": 40,
   "id": "67d60b49",
   "metadata": {},
   "outputs": [],
   "source": [
    "class ContentLoss:\n",
    "    def __init__(self,imag1,image2,model):\n",
    "        self.model=model\n",
    "        self.image1=image1\n",
    "        self.image2=image2\n",
    "        self.__list_fm1=None\n",
    "        self.__list_fm2=None\n",
    "        self.euclidean=[]\n",
    "        self.cosine=[]\n",
    "        self.contentloss=[]\n",
    "        \n",
    "    def preprocess(self):\n",
    "        array1 = np.array(self.image1)\n",
    "        array2 = np.array(self.image2)\n",
    "        fig, axes = plt.subplots(1, 2)\n",
    "        axes[0].imshow(image1)\n",
    "        axes[0].set_title('Image 1')\n",
    "        axes[1].imshow(image2)\n",
    "        axes[1].set_title('Image 2')\n",
    "        plt.show()\n",
    "        \n",
    "    def generate_features(self):\n",
    "        image1 = np.expand_dims(self.image1, axis=0)\n",
    "        image2 = np.expand_dims(self.image2, axis=0)\n",
    "        self.__list_fm1 = self.model.predict(image1)\n",
    "        self.__list_fm2 = self.model.predict(image2)\n",
    "        print(\"done.\")\n",
    "        \n",
    "        \n",
    "    def sim_euc(self):\n",
    "        for i in range(len(self.__list_fm1)):\n",
    "            flat_features_image1 = self.__list_fm1[i].flatten()\n",
    "            flat_features_image2 = self.__list_fm2[i].flatten()\n",
    "            euclidean_distance = euclidean_distances([flat_features_image1], [flat_features_image2])\n",
    "            cosine_similarity_score = cosine_similarity([flat_features_image1], [flat_features_image2])\n",
    "            self.euclidean.append(euclidean_distance)\n",
    "            self.cosine.append(cosine_similarity_score)\n",
    "            print(\"done.\")\n",
    "            \n",
    "    def Contentloss(self):\n",
    "        print(\"inform:........preprocessing  image\")\n",
    "        self.preprocess()\n",
    "        print(\"Inform:........Finding features map of 2 given images.\")\n",
    "        self.generate_features()\n",
    "        print(\"Done..\\n\")\n",
    "        print(\"Finding distance.......\")\n",
    "        self.sim_euc()\n",
    "        print(\"Finding Content loss.............\\n\")\n",
    "        print(\"**********************************\")\n",
    "        for i in range(len(self.euclidean)):\n",
    "            print(f\"Euclidean Distance for feature map {i+1}: {self.euclidean[i]}\")\n",
    "            print(f\"Cosine Similarity for feature map {i+1}: {self.cosine[i]}\\n\")\n",
    "            print(\"****************************************************************\")\n",
    "        print(\"************************************\")\n",
    "        print(\"content loss: Giving 100 times to 5th and 10 times to 4th...\",100*self.euclidean[4]+10*self.euclidean[3])\n",
    "    \n",
    "        "
   ]
  },
  {
   "cell_type": "code",
   "execution_count": 41,
   "id": "3f2cb4b3",
   "metadata": {},
   "outputs": [],
   "source": [
    "image1 = x_train[9]\n",
    "image2 = x_train[24]"
   ]
  },
  {
   "cell_type": "code",
   "execution_count": 42,
   "id": "27baf4f1",
   "metadata": {},
   "outputs": [],
   "source": [
    "cl=ContentLoss(image1,image2,feature_extractor_model)"
   ]
  },
  {
   "cell_type": "code",
   "execution_count": 43,
   "id": "76ecd16f",
   "metadata": {},
   "outputs": [
    {
     "name": "stdout",
     "output_type": "stream",
     "text": [
      "inform:........preprocessing  image\n"
     ]
    },
    {
     "data": {
      "image/png": "[encoded data removed]",
      "text/plain": [
       "<Figure size 640x480 with 2 Axes>"
      ]
     },
     "metadata": {},
     "output_type": "display_data"
    },
    {
     "name": "stdout",
     "output_type": "stream",
     "text": [
      "Inform:........Finding features map of 2 given images.\n",
      "1/1 [==============================] - 0s 67ms/step\n",
      "1/1 [==============================] - 0s 53ms/step\n",
      "Done..\n",
      "\n",
      "Finding distance.......\n",
      "Finding Content loss.............\n",
      "\n",
      "**********************************\n",
      "Euclidean Distance for feature map 1: [[70121.78]]\n",
      "Cosine Similarity for feature map 1: [[0.5301076]]\n",
      "\n",
      "****************************************************************\n",
      "Euclidean Distance for feature map 2: [[139770.98]]\n",
      "Cosine Similarity for feature map 2: [[0.38690048]]\n",
      "\n",
      "****************************************************************\n",
      "Euclidean Distance for feature map 3: [[107978.25]]\n",
      "Cosine Similarity for feature map 3: [[0.52423286]]\n",
      "\n",
      "****************************************************************\n",
      "Euclidean Distance for feature map 4: [[16865.006]]\n",
      "Cosine Similarity for feature map 4: [[0.42555773]]\n",
      "\n",
      "****************************************************************\n",
      "Euclidean Distance for feature map 5: [[561.2931]]\n",
      "Cosine Similarity for feature map 5: [[0.19420233]]\n",
      "\n",
      "****************************************************************\n",
      "************************************\n",
      "content loss: Giving 100 times to 5th and 10 times to 4th... [[224779.38]]\n"
     ]
    }
   ],
   "source": [
    "cl.Contentloss()"
   ]
  },
  {
   "cell_type": "code",
   "execution_count": 44,
   "id": "e4dcd51f",
   "metadata": {},
   "outputs": [
    {
     "name": "stdout",
     "output_type": "stream",
     "text": [
      "inform:........preprocessing  image\n"
     ]
    },
    {
     "data": {
      "image/png": "[encoded data removed]",
      "text/plain": [
       "<Figure size 640x480 with 2 Axes>"
      ]
     },
     "metadata": {},
     "output_type": "display_data"
    },
    {
     "name": "stdout",
     "output_type": "stream",
     "text": [
      "Inform:........Finding features map of 2 given images.\n",
      "1/1 [==============================] - 0s 57ms/step\n",
      "1/1 [==============================] - 0s 46ms/step\n",
      "Done..\n",
      "\n",
      "Finding distance.......\n",
      "Finding Content loss.............\n",
      "\n",
      "**********************************\n",
      "Euclidean Distance for feature map 1: [[0.]]\n",
      "Cosine Similarity for feature map 1: [[1.0000002]]\n",
      "\n",
      "****************************************************************\n",
      "Euclidean Distance for feature map 2: [[0.00552427]]\n",
      "Cosine Similarity for feature map 2: [[1.]]\n",
      "\n",
      "****************************************************************\n",
      "Euclidean Distance for feature map 3: [[0.00516748]]\n",
      "Cosine Similarity for feature map 3: [[1.]]\n",
      "\n",
      "****************************************************************\n",
      "Euclidean Distance for feature map 4: [[0.00034527]]\n",
      "Cosine Similarity for feature map 4: [[1.0000002]]\n",
      "\n",
      "****************************************************************\n",
      "Euclidean Distance for feature map 5: [[0.]]\n",
      "Cosine Similarity for feature map 5: [[0.9999999]]\n",
      "\n",
      "****************************************************************\n",
      "************************************\n",
      "content loss: Giving 100 times to 5th and 10 times to 4th... [[0.00345267]]\n"
     ]
    }
   ],
   "source": [
    "image1 = x_train[9]\n",
    "image2 = x_train[9]\n",
    "cl=ContentLoss(image1,image2,feature_extractor_model)\n",
    "cl.Contentloss()"
   ]
  },
  {
   "cell_type": "code",
   "execution_count": null,
   "id": "f0298243",
   "metadata": {},
   "outputs": [],
   "source": []
  }
 ],
 "metadata": {
  "kernelspec": {
   "display_name": "Python 3 (ipykernel)",
   "language": "python",
   "name": "python3"
  },
  "language_info": {
   "codemirror_mode": {
    "name": "ipython",
    "version": 3
   },
   "file_extension": ".py",
   "mimetype": "text/x-python",
   "name": "python",
   "nbconvert_exporter": "python",
   "pygments_lexer": "ipython3",
   "version": "3.11.3"
  }
 },
 "nbformat": 4,
 "nbformat_minor": 5
}
