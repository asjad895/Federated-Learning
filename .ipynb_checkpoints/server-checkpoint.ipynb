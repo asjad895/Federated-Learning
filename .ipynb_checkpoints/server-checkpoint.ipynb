{
 "cells": [
  {
   "cell_type": "code",
   "execution_count": 1,
   "id": "8fd7dbcf",
   "metadata": {},
   "outputs": [],
   "source": [
    "import flwr as fl\n",
    "import sys\n",
    "import numpy as np\n",
    "from tensorflow import keras\n",
    "import os\n",
    "import pickle\n",
    "\n",
    "global_model = keras.Sequential([\n",
    "            keras.layers.Flatten(input_shape=(28,28)),\n",
    "            keras.layers.Dense(128, activation='relu'),\n",
    "            keras.layers.Dense(256, activation='relu'),\n",
    "            keras.layers.Dense(10, activation='softmax')\n",
    "        ])"
   ]
  },
  {
   "cell_type": "code",
   "execution_count": 2,
   "id": "0431d141",
   "metadata": {},
   "outputs": [],
   "source": [
    "# Define a custom strategy that saves the aggregated weights after each round.\n",
    "class SaveModelStrategy(fl.server.strategy.FedAvg):\n",
    "    def __init__(self, *args, **kwargs):\n",
    "        super().__init__(*args, **kwargs)\n",
    "        self.save_dir = './'\n",
    "    def aggregate_fit(self, rnd, results, failures):\n",
    "        \"\"\"Aggregates the weights from the clients and saves the aggregated weights\n",
    "        to a file.\"\"\"\n",
    "        results_dict = {}\n",
    "        for client_id, client_weights in results:\n",
    "            results_dict[client_id] = client_weights\n",
    "        print(results_dict.items())\n",
    "\n",
    "        # Save the weights of each client to a separate file.\n",
    "        for client_id, client_weights in results_dict.items():\n",
    "            client_weights_bytes = pickle.dumps(client_weights)\n",
    "            client_weights_ndarrays = fl.common.bytes_to_ndarray(client_weights_bytes)\n",
    "            np.savez(f\"{self.save_dir}/round-{rnd}-client-{client_id}-weights.npz\", *client_weights_ndarrays)\n",
    "\n",
    "\n",
    "        # Aggregate the weights from the clients.\n",
    "        aggregated_weights, agg_metrics = super().aggregate_fit(rnd, results, failures)\n",
    "\n",
    "        # Save the aggregated weights to a file.\n",
    "        if aggregated_weights is not None:\n",
    "            print(f\"Saving round {rnd} aggregated_weights to npz file...\")\n",
    "            aggregated_ndarrays: List[np.ndarray] = fl.common.parameters_to_ndarrays(aggregated_weights)\n",
    "            np.savez(f\"round-{rnd}-weights.npz\", *aggregated_ndarrays)\n",
    "\n",
    "            # Set the global model weights to the aggregated weights.\n",
    "            global_model.set_weights(aggregated_ndarrays)\n",
    "\n",
    "        return aggregated_weights, agg_metrics\n"
   ]
  },
  {
   "cell_type": "code",
   "execution_count": 3,
   "id": "ad5506d4",
   "metadata": {},
   "outputs": [
    {
     "data": {
      "text/plain": [
       "[array([[-0.0186247 ,  0.02316877,  0.02240704, ...,  0.06275254,\n",
       "          0.03031649, -0.06502932],\n",
       "        [-0.08054168, -0.01716843,  0.01335085, ...,  0.03897269,\n",
       "         -0.01196608, -0.00784412],\n",
       "        [ 0.0426623 ,  0.01697833, -0.01824363, ...,  0.06636366,\n",
       "         -0.06258225, -0.04735654],\n",
       "        ...,\n",
       "        [-0.02132846,  0.01508735,  0.03979226, ...,  0.04802003,\n",
       "         -0.05110517, -0.03852886],\n",
       "        [-0.04995808, -0.03515657,  0.03035498, ...,  0.07391796,\n",
       "         -0.02808165, -0.04586395],\n",
       "        [ 0.07336161, -0.04918544, -0.02184445, ...,  0.00994907,\n",
       "         -0.02106065,  0.00291602]], dtype=float32),\n",
       " array([0., 0., 0., 0., 0., 0., 0., 0., 0., 0., 0., 0., 0., 0., 0., 0., 0.,\n",
       "        0., 0., 0., 0., 0., 0., 0., 0., 0., 0., 0., 0., 0., 0., 0., 0., 0.,\n",
       "        0., 0., 0., 0., 0., 0., 0., 0., 0., 0., 0., 0., 0., 0., 0., 0., 0.,\n",
       "        0., 0., 0., 0., 0., 0., 0., 0., 0., 0., 0., 0., 0., 0., 0., 0., 0.,\n",
       "        0., 0., 0., 0., 0., 0., 0., 0., 0., 0., 0., 0., 0., 0., 0., 0., 0.,\n",
       "        0., 0., 0., 0., 0., 0., 0., 0., 0., 0., 0., 0., 0., 0., 0., 0., 0.,\n",
       "        0., 0., 0., 0., 0., 0., 0., 0., 0., 0., 0., 0., 0., 0., 0., 0., 0.,\n",
       "        0., 0., 0., 0., 0., 0., 0., 0., 0.], dtype=float32),\n",
       " array([[-0.06307873,  0.00717801,  0.0866029 , ...,  0.10883123,\n",
       "         -0.03170234, -0.086018  ],\n",
       "        [-0.01774552,  0.12190896,  0.02232051, ...,  0.03577325,\n",
       "         -0.03045267, -0.05598155],\n",
       "        [-0.1051245 ,  0.05561438, -0.00037345, ..., -0.00808361,\n",
       "         -0.10428572, -0.08413365],\n",
       "        ...,\n",
       "        [ 0.0429928 ,  0.08340028, -0.01226509, ...,  0.09041697,\n",
       "         -0.12302318, -0.11790508],\n",
       "        [ 0.02022535, -0.11547068,  0.11021566, ..., -0.03719297,\n",
       "          0.03042749,  0.05355206],\n",
       "        [-0.0098998 , -0.02383435,  0.04562709, ..., -0.05022785,\n",
       "         -0.00372681, -0.07738611]], dtype=float32),\n",
       " array([0., 0., 0., 0., 0., 0., 0., 0., 0., 0., 0., 0., 0., 0., 0., 0., 0.,\n",
       "        0., 0., 0., 0., 0., 0., 0., 0., 0., 0., 0., 0., 0., 0., 0., 0., 0.,\n",
       "        0., 0., 0., 0., 0., 0., 0., 0., 0., 0., 0., 0., 0., 0., 0., 0., 0.,\n",
       "        0., 0., 0., 0., 0., 0., 0., 0., 0., 0., 0., 0., 0., 0., 0., 0., 0.,\n",
       "        0., 0., 0., 0., 0., 0., 0., 0., 0., 0., 0., 0., 0., 0., 0., 0., 0.,\n",
       "        0., 0., 0., 0., 0., 0., 0., 0., 0., 0., 0., 0., 0., 0., 0., 0., 0.,\n",
       "        0., 0., 0., 0., 0., 0., 0., 0., 0., 0., 0., 0., 0., 0., 0., 0., 0.,\n",
       "        0., 0., 0., 0., 0., 0., 0., 0., 0., 0., 0., 0., 0., 0., 0., 0., 0.,\n",
       "        0., 0., 0., 0., 0., 0., 0., 0., 0., 0., 0., 0., 0., 0., 0., 0., 0.,\n",
       "        0., 0., 0., 0., 0., 0., 0., 0., 0., 0., 0., 0., 0., 0., 0., 0., 0.,\n",
       "        0., 0., 0., 0., 0., 0., 0., 0., 0., 0., 0., 0., 0., 0., 0., 0., 0.,\n",
       "        0., 0., 0., 0., 0., 0., 0., 0., 0., 0., 0., 0., 0., 0., 0., 0., 0.,\n",
       "        0., 0., 0., 0., 0., 0., 0., 0., 0., 0., 0., 0., 0., 0., 0., 0., 0.,\n",
       "        0., 0., 0., 0., 0., 0., 0., 0., 0., 0., 0., 0., 0., 0., 0., 0., 0.,\n",
       "        0., 0., 0., 0., 0., 0., 0., 0., 0., 0., 0., 0., 0., 0., 0., 0., 0.,\n",
       "        0.], dtype=float32),\n",
       " array([[-0.119826  ,  0.12366733,  0.13919398, ...,  0.03718065,\n",
       "         -0.099277  , -0.1485232 ],\n",
       "        [ 0.05835149,  0.06591748, -0.01214275, ...,  0.13143656,\n",
       "          0.05814795,  0.07498847],\n",
       "        [-0.13141465,  0.0694446 ,  0.08462544, ..., -0.11784182,\n",
       "          0.08242266, -0.1291118 ],\n",
       "        ...,\n",
       "        [ 0.06882574,  0.14996359,  0.12252647, ..., -0.10736826,\n",
       "          0.03979951, -0.09906706],\n",
       "        [ 0.03871243, -0.0733424 ,  0.07203031, ...,  0.04086041,\n",
       "         -0.03833988, -0.01836957],\n",
       "        [-0.07488359, -0.05974171, -0.09950165, ...,  0.00835119,\n",
       "         -0.10423163,  0.06500392]], dtype=float32),\n",
       " array([0., 0., 0., 0., 0., 0., 0., 0., 0., 0.], dtype=float32)]"
      ]
     },
     "execution_count": 3,
     "metadata": {},
     "output_type": "execute_result"
    }
   ],
   "source": [
    "global_model.get_weights()"
   ]
  },
  {
   "cell_type": "code",
   "execution_count": 4,
   "id": "fed32fb7",
   "metadata": {},
   "outputs": [
    {
     "name": "stderr",
     "output_type": "stream",
     "text": [
      "INFO flwr 2023-11-03 17:39:48,520 | app.py:162 | Starting Flower server, config: ServerConfig(num_rounds=3, round_timeout=None)\n",
      "INFO flwr 2023-11-03 17:39:48,589 | app.py:175 | Flower ECE: gRPC server running (3 rounds), SSL is disabled\n",
      "INFO flwr 2023-11-03 17:39:48,590 | server.py:89 | Initializing global parameters\n",
      "INFO flwr 2023-11-03 17:39:48,590 | server.py:276 | Requesting initial parameters from one random client\n",
      "INFO flwr 2023-11-03 17:39:58,365 | server.py:280 | Received initial parameters from one random client\n",
      "INFO flwr 2023-11-03 17:39:58,367 | server.py:91 | Evaluating initial parameters\n",
      "INFO flwr 2023-11-03 17:39:58,368 | server.py:104 | FL starting\n",
      "DEBUG flwr 2023-11-03 17:40:00,836 | server.py:222 | fit_round 1: strategy sampled 2 clients (out of 2)\n",
      "DEBUG flwr 2023-11-03 17:40:03,016 | server.py:236 | fit_round 1 received 2 results and 0 failures\n",
      "IOPub data rate exceeded.\n",
      "The notebook server will temporarily stop sending output\n",
      "to the client in order to avoid crashing it.\n",
      "To change this limit, set the config variable\n",
      "`--NotebookApp.iopub_data_rate_limit`.\n",
      "\n",
      "Current values:\n",
      "NotebookApp.iopub_data_rate_limit=1000000.0 (bytes/sec)\n",
      "NotebookApp.rate_limit_window=3.0 (secs)\n",
      "\n"
     ]
    },
    {
     "ename": "ValueError",
     "evalue": "Cannot load file containing pickled data when allow_pickle=False",
     "output_type": "error",
     "traceback": [
      "\u001b[1;31m---------------------------------------------------------------------------\u001b[0m",
      "\u001b[1;31mValueError\u001b[0m                                Traceback (most recent call last)",
      "Cell \u001b[1;32mIn[4], line 4\u001b[0m\n\u001b[0;32m      2\u001b[0m strategy \u001b[38;5;241m=\u001b[39m SaveModelStrategy()\n\u001b[0;32m      3\u001b[0m PORT\u001b[38;5;241m=\u001b[39m\u001b[38;5;241m5010\u001b[39m\n\u001b[1;32m----> 4\u001b[0m fl\u001b[38;5;241m.\u001b[39mserver\u001b[38;5;241m.\u001b[39mstart_server(\n\u001b[0;32m      5\u001b[0m     server_address\u001b[38;5;241m=\u001b[39m\u001b[38;5;124m'\u001b[39m\u001b[38;5;124mlocalhost:\u001b[39m\u001b[38;5;124m'\u001b[39m\u001b[38;5;241m+\u001b[39m\u001b[38;5;28mstr\u001b[39m(PORT),\n\u001b[0;32m      6\u001b[0m     config\u001b[38;5;241m=\u001b[39mfl\u001b[38;5;241m.\u001b[39mserver\u001b[38;5;241m.\u001b[39mServerConfig(num_rounds\u001b[38;5;241m=\u001b[39m\u001b[38;5;241m3\u001b[39m),\n\u001b[0;32m      7\u001b[0m     grpc_max_message_length\u001b[38;5;241m=\u001b[39m\u001b[38;5;241m1024\u001b[39m\u001b[38;5;241m*\u001b[39m\u001b[38;5;241m1024\u001b[39m\u001b[38;5;241m*\u001b[39m\u001b[38;5;241m1024\u001b[39m,\n\u001b[0;32m      8\u001b[0m     strategy\u001b[38;5;241m=\u001b[39mstrategy\n\u001b[0;32m      9\u001b[0m )\n",
      "File \u001b[1;32m~\\anaconda3\\Lib\\site-packages\\flwr\\server\\app.py:183\u001b[0m, in \u001b[0;36mstart_server\u001b[1;34m(server_address, server, config, strategy, client_manager, grpc_max_message_length, certificates)\u001b[0m\n\u001b[0;32m    175\u001b[0m log(\n\u001b[0;32m    176\u001b[0m     INFO,\n\u001b[0;32m    177\u001b[0m     \u001b[38;5;124m\"\u001b[39m\u001b[38;5;124mFlower ECE: gRPC server running (\u001b[39m\u001b[38;5;132;01m%s\u001b[39;00m\u001b[38;5;124m rounds), SSL is \u001b[39m\u001b[38;5;132;01m%s\u001b[39;00m\u001b[38;5;124m\"\u001b[39m,\n\u001b[0;32m    178\u001b[0m     initialized_config\u001b[38;5;241m.\u001b[39mnum_rounds,\n\u001b[0;32m    179\u001b[0m     \u001b[38;5;124m\"\u001b[39m\u001b[38;5;124menabled\u001b[39m\u001b[38;5;124m\"\u001b[39m \u001b[38;5;28;01mif\u001b[39;00m certificates \u001b[38;5;129;01mis\u001b[39;00m \u001b[38;5;129;01mnot\u001b[39;00m \u001b[38;5;28;01mNone\u001b[39;00m \u001b[38;5;28;01melse\u001b[39;00m \u001b[38;5;124m\"\u001b[39m\u001b[38;5;124mdisabled\u001b[39m\u001b[38;5;124m\"\u001b[39m,\n\u001b[0;32m    180\u001b[0m )\n\u001b[0;32m    182\u001b[0m \u001b[38;5;66;03m# Start training\u001b[39;00m\n\u001b[1;32m--> 183\u001b[0m hist \u001b[38;5;241m=\u001b[39m run_fl(\n\u001b[0;32m    184\u001b[0m     server\u001b[38;5;241m=\u001b[39minitialized_server,\n\u001b[0;32m    185\u001b[0m     config\u001b[38;5;241m=\u001b[39minitialized_config,\n\u001b[0;32m    186\u001b[0m )\n\u001b[0;32m    188\u001b[0m \u001b[38;5;66;03m# Stop the gRPC server\u001b[39;00m\n\u001b[0;32m    189\u001b[0m grpc_server\u001b[38;5;241m.\u001b[39mstop(grace\u001b[38;5;241m=\u001b[39m\u001b[38;5;241m1\u001b[39m)\n",
      "File \u001b[1;32m~\\anaconda3\\Lib\\site-packages\\flwr\\server\\app.py:224\u001b[0m, in \u001b[0;36mrun_fl\u001b[1;34m(server, config)\u001b[0m\n\u001b[0;32m    219\u001b[0m \u001b[38;5;28;01mdef\u001b[39;00m \u001b[38;5;21mrun_fl\u001b[39m(\n\u001b[0;32m    220\u001b[0m     server: Server,\n\u001b[0;32m    221\u001b[0m     config: ServerConfig,\n\u001b[0;32m    222\u001b[0m ) \u001b[38;5;241m-\u001b[39m\u001b[38;5;241m>\u001b[39m History:\n\u001b[0;32m    223\u001b[0m \u001b[38;5;250m    \u001b[39m\u001b[38;5;124;03m\"\"\"Train a model on the given server and return the History object.\"\"\"\u001b[39;00m\n\u001b[1;32m--> 224\u001b[0m     hist \u001b[38;5;241m=\u001b[39m server\u001b[38;5;241m.\u001b[39mfit(num_rounds\u001b[38;5;241m=\u001b[39mconfig\u001b[38;5;241m.\u001b[39mnum_rounds, timeout\u001b[38;5;241m=\u001b[39mconfig\u001b[38;5;241m.\u001b[39mround_timeout)\n\u001b[0;32m    225\u001b[0m     log(INFO, \u001b[38;5;124m\"\u001b[39m\u001b[38;5;124mapp_fit: losses_distributed \u001b[39m\u001b[38;5;132;01m%s\u001b[39;00m\u001b[38;5;124m\"\u001b[39m, \u001b[38;5;28mstr\u001b[39m(hist\u001b[38;5;241m.\u001b[39mlosses_distributed))\n\u001b[0;32m    226\u001b[0m     log(INFO, \u001b[38;5;124m\"\u001b[39m\u001b[38;5;124mapp_fit: metrics_distributed_fit \u001b[39m\u001b[38;5;132;01m%s\u001b[39;00m\u001b[38;5;124m\"\u001b[39m, \u001b[38;5;28mstr\u001b[39m(hist\u001b[38;5;241m.\u001b[39mmetrics_distributed_fit))\n",
      "File \u001b[1;32m~\\anaconda3\\Lib\\site-packages\\flwr\\server\\server.py:109\u001b[0m, in \u001b[0;36mServer.fit\u001b[1;34m(self, num_rounds, timeout)\u001b[0m\n\u001b[0;32m    105\u001b[0m start_time \u001b[38;5;241m=\u001b[39m timeit\u001b[38;5;241m.\u001b[39mdefault_timer()\n\u001b[0;32m    107\u001b[0m \u001b[38;5;28;01mfor\u001b[39;00m current_round \u001b[38;5;129;01min\u001b[39;00m \u001b[38;5;28mrange\u001b[39m(\u001b[38;5;241m1\u001b[39m, num_rounds \u001b[38;5;241m+\u001b[39m \u001b[38;5;241m1\u001b[39m):\n\u001b[0;32m    108\u001b[0m     \u001b[38;5;66;03m# Train model and replace previous global model\u001b[39;00m\n\u001b[1;32m--> 109\u001b[0m     res_fit \u001b[38;5;241m=\u001b[39m \u001b[38;5;28mself\u001b[39m\u001b[38;5;241m.\u001b[39mfit_round(\n\u001b[0;32m    110\u001b[0m         server_round\u001b[38;5;241m=\u001b[39mcurrent_round,\n\u001b[0;32m    111\u001b[0m         timeout\u001b[38;5;241m=\u001b[39mtimeout,\n\u001b[0;32m    112\u001b[0m     )\n\u001b[0;32m    113\u001b[0m     \u001b[38;5;28;01mif\u001b[39;00m res_fit \u001b[38;5;129;01mis\u001b[39;00m \u001b[38;5;129;01mnot\u001b[39;00m \u001b[38;5;28;01mNone\u001b[39;00m:\n\u001b[0;32m    114\u001b[0m         parameters_prime, fit_metrics, _ \u001b[38;5;241m=\u001b[39m res_fit  \u001b[38;5;66;03m# fit_metrics_aggregated\u001b[39;00m\n",
      "File \u001b[1;32m~\\anaconda3\\Lib\\site-packages\\flwr\\server\\server.py:248\u001b[0m, in \u001b[0;36mServer.fit_round\u001b[1;34m(self, server_round, timeout)\u001b[0m\n\u001b[0;32m    236\u001b[0m log(\n\u001b[0;32m    237\u001b[0m     DEBUG,\n\u001b[0;32m    238\u001b[0m     \u001b[38;5;124m\"\u001b[39m\u001b[38;5;124mfit_round \u001b[39m\u001b[38;5;132;01m%s\u001b[39;00m\u001b[38;5;124m received \u001b[39m\u001b[38;5;132;01m%s\u001b[39;00m\u001b[38;5;124m results and \u001b[39m\u001b[38;5;132;01m%s\u001b[39;00m\u001b[38;5;124m failures\u001b[39m\u001b[38;5;124m\"\u001b[39m,\n\u001b[1;32m   (...)\u001b[0m\n\u001b[0;32m    241\u001b[0m     \u001b[38;5;28mlen\u001b[39m(failures),\n\u001b[0;32m    242\u001b[0m )\n\u001b[0;32m    244\u001b[0m \u001b[38;5;66;03m# Aggregate training results\u001b[39;00m\n\u001b[0;32m    245\u001b[0m aggregated_result: Tuple[\n\u001b[0;32m    246\u001b[0m     Optional[Parameters],\n\u001b[0;32m    247\u001b[0m     Dict[\u001b[38;5;28mstr\u001b[39m, Scalar],\n\u001b[1;32m--> 248\u001b[0m ] \u001b[38;5;241m=\u001b[39m \u001b[38;5;28mself\u001b[39m\u001b[38;5;241m.\u001b[39mstrategy\u001b[38;5;241m.\u001b[39maggregate_fit(server_round, results, failures)\n\u001b[0;32m    250\u001b[0m parameters_aggregated, metrics_aggregated \u001b[38;5;241m=\u001b[39m aggregated_result\n\u001b[0;32m    251\u001b[0m \u001b[38;5;28;01mreturn\u001b[39;00m parameters_aggregated, metrics_aggregated, (results, failures)\n",
      "Cell \u001b[1;32mIn[2], line 17\u001b[0m, in \u001b[0;36mSaveModelStrategy.aggregate_fit\u001b[1;34m(self, rnd, results, failures)\u001b[0m\n\u001b[0;32m     15\u001b[0m \u001b[38;5;28;01mfor\u001b[39;00m client_id, client_weights \u001b[38;5;129;01min\u001b[39;00m results_dict\u001b[38;5;241m.\u001b[39mitems():\n\u001b[0;32m     16\u001b[0m     client_weights_bytes \u001b[38;5;241m=\u001b[39m pickle\u001b[38;5;241m.\u001b[39mdumps(client_weights)\n\u001b[1;32m---> 17\u001b[0m     client_weights_ndarrays \u001b[38;5;241m=\u001b[39m fl\u001b[38;5;241m.\u001b[39mcommon\u001b[38;5;241m.\u001b[39mbytes_to_ndarray(client_weights_bytes)\n\u001b[0;32m     18\u001b[0m     np\u001b[38;5;241m.\u001b[39msavez(\u001b[38;5;124mf\u001b[39m\u001b[38;5;124m\"\u001b[39m\u001b[38;5;132;01m{\u001b[39;00m\u001b[38;5;28mself\u001b[39m\u001b[38;5;241m.\u001b[39msave_dir\u001b[38;5;132;01m}\u001b[39;00m\u001b[38;5;124m/round-\u001b[39m\u001b[38;5;132;01m{\u001b[39;00mrnd\u001b[38;5;132;01m}\u001b[39;00m\u001b[38;5;124m-client-\u001b[39m\u001b[38;5;132;01m{\u001b[39;00mclient_id\u001b[38;5;132;01m}\u001b[39;00m\u001b[38;5;124m-weights.npz\u001b[39m\u001b[38;5;124m\"\u001b[39m, \u001b[38;5;241m*\u001b[39mclient_weights_ndarrays)\n\u001b[0;32m     21\u001b[0m \u001b[38;5;66;03m# Aggregate the weights from the clients.\u001b[39;00m\n",
      "File \u001b[1;32m~\\anaconda3\\Lib\\site-packages\\flwr\\common\\parameter.py:53\u001b[0m, in \u001b[0;36mbytes_to_ndarray\u001b[1;34m(tensor)\u001b[0m\n\u001b[0;32m     49\u001b[0m bytes_io \u001b[38;5;241m=\u001b[39m BytesIO(tensor)\n\u001b[0;32m     50\u001b[0m \u001b[38;5;66;03m# WARNING: NEVER set allow_pickle to true.\u001b[39;00m\n\u001b[0;32m     51\u001b[0m \u001b[38;5;66;03m# Reason: loading pickled data can execute arbitrary code\u001b[39;00m\n\u001b[0;32m     52\u001b[0m \u001b[38;5;66;03m# Source: https://numpy.org/doc/stable/reference/generated/numpy.load.html\u001b[39;00m\n\u001b[1;32m---> 53\u001b[0m ndarray_deserialized \u001b[38;5;241m=\u001b[39m np\u001b[38;5;241m.\u001b[39mload(bytes_io, allow_pickle\u001b[38;5;241m=\u001b[39m\u001b[38;5;28;01mFalse\u001b[39;00m)  \u001b[38;5;66;03m# type: ignore\u001b[39;00m\n\u001b[0;32m     54\u001b[0m \u001b[38;5;28;01mreturn\u001b[39;00m cast(NDArray, ndarray_deserialized)\n",
      "File \u001b[1;32m~\\anaconda3\\Lib\\site-packages\\numpy\\lib\\npyio.py:438\u001b[0m, in \u001b[0;36mload\u001b[1;34m(file, mmap_mode, allow_pickle, fix_imports, encoding, max_header_size)\u001b[0m\n\u001b[0;32m    435\u001b[0m \u001b[38;5;28;01melse\u001b[39;00m:\n\u001b[0;32m    436\u001b[0m     \u001b[38;5;66;03m# Try a pickle\u001b[39;00m\n\u001b[0;32m    437\u001b[0m     \u001b[38;5;28;01mif\u001b[39;00m \u001b[38;5;129;01mnot\u001b[39;00m allow_pickle:\n\u001b[1;32m--> 438\u001b[0m         \u001b[38;5;28;01mraise\u001b[39;00m \u001b[38;5;167;01mValueError\u001b[39;00m(\u001b[38;5;124m\"\u001b[39m\u001b[38;5;124mCannot load file containing pickled data \u001b[39m\u001b[38;5;124m\"\u001b[39m\n\u001b[0;32m    439\u001b[0m                          \u001b[38;5;124m\"\u001b[39m\u001b[38;5;124mwhen allow_pickle=False\u001b[39m\u001b[38;5;124m\"\u001b[39m)\n\u001b[0;32m    440\u001b[0m     \u001b[38;5;28;01mtry\u001b[39;00m:\n\u001b[0;32m    441\u001b[0m         \u001b[38;5;28;01mreturn\u001b[39;00m pickle\u001b[38;5;241m.\u001b[39mload(fid, \u001b[38;5;241m*\u001b[39m\u001b[38;5;241m*\u001b[39mpickle_kwargs)\n",
      "\u001b[1;31mValueError\u001b[0m: Cannot load file containing pickled data when allow_pickle=False"
     ]
    }
   ],
   "source": [
    "\n",
    "# Start the server.\n",
    "strategy = SaveModelStrategy()\n",
    "PORT=5010\n",
    "fl.server.start_server(\n",
    "    server_address='localhost:'+str(PORT),\n",
    "    config=fl.server.ServerConfig(num_rounds=3),\n",
    "    grpc_max_message_length=1024*1024*1024,\n",
    "    strategy=strategy\n",
    ")"
   ]
  },
  {
   "cell_type": "code",
   "execution_count": null,
   "id": "7ac55315",
   "metadata": {},
   "outputs": [],
   "source": [
    "global_model.summary()"
   ]
  },
  {
   "cell_type": "code",
   "execution_count": null,
   "id": "5a4121ac",
   "metadata": {},
   "outputs": [],
   "source": [
    "global_model.get_weights()"
   ]
  },
  {
   "cell_type": "code",
   "execution_count": null,
   "id": "1f648da4",
   "metadata": {},
   "outputs": [],
   "source": [
    "import tensorflow as tf\n",
    "global_model.compile(\"adam\", \"sparse_categorical_crossentropy\", metrics=[\"accuracy\"])\n",
    "(_,_), (x_test, y_test) = tf.keras.datasets.mnist.load_data()\n",
    "x_test = x_test/255.0\n",
    "x_test = x_test.reshape(x_test.shape[0],28,28,1)\n",
    "acc = global_model.evaluate(x_test, y_test)\n",
    "print(acc)"
   ]
  },
  {
   "cell_type": "markdown",
   "id": "81247592",
   "metadata": {},
   "source": [
    "# Getting Hyperparametres"
   ]
  },
  {
   "cell_type": "code",
   "execution_count": null,
   "id": "bfb0730a",
   "metadata": {},
   "outputs": [],
   "source": [
    "npzfile = np.load(\"./round-3-weights.npz\")\n",
    "updated_model_weights = [npzfile[key] for key in npzfile.files]"
   ]
  },
  {
   "cell_type": "code",
   "execution_count": null,
   "id": "2f0deca9",
   "metadata": {},
   "outputs": [],
   "source": [
    "# Check the shapes and types of the global_model weights\n",
    "global_weights = global_model.get_weights()\n",
    "\n",
    "for i, w in enumerate(global_weights):\n",
    "    print(f\"Weight {i} - Shape: {w.shape}, Type: {w.dtype}\")\n"
   ]
  },
  {
   "cell_type": "code",
   "execution_count": null,
   "id": "889177ac",
   "metadata": {},
   "outputs": [],
   "source": [
    "for i, (gw, w) in enumerate(zip(global_weights, updated_model_weights)):\n",
    "    if gw.shape != w.shape:\n",
    "        print(f\"Weight {i} shape mismatch - Global: {gw.shape}, Updated: {w.shape}\")\n",
    "    if gw.dtype != w.dtype:\n",
    "        print(f\"Weight {i} type mismatch - Global: {gw.dtype}, Updated: {w.dtype}\")\n",
    "    print(\"All is well.\")"
   ]
  },
  {
   "cell_type": "code",
   "execution_count": null,
   "id": "165b138f",
   "metadata": {},
   "outputs": [],
   "source": [
    "updated_model_weights"
   ]
  },
  {
   "cell_type": "code",
   "execution_count": null,
   "id": "27fbe965",
   "metadata": {},
   "outputs": [],
   "source": []
  }
 ],
 "metadata": {
  "kernelspec": {
   "display_name": "Python 3 (ipykernel)",
   "language": "python",
   "name": "python3"
  },
  "language_info": {
   "codemirror_mode": {
    "name": "ipython",
    "version": 3
   },
   "file_extension": ".py",
   "mimetype": "text/x-python",
   "name": "python",
   "nbconvert_exporter": "python",
   "pygments_lexer": "ipython3",
   "version": "3.11.3"
  }
 },
 "nbformat": 4,
 "nbformat_minor": 5
}
