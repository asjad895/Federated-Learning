{
 "cells": [
  {
   "cell_type": "code",
   "execution_count": null,
   "id": "cfd4008d",
   "metadata": {},
   "outputs": [],
   "source": [
    "import flwr as fl\n",
    "import tensorflow as tf\n",
    "from tensorflow import keras\n",
    "import sys\n",
    "import seaborn as sns\n",
    "import matplotlib.pyplot as plt\n",
    "import numpy as np"
   ]
  },
  {
   "cell_type": "code",
   "execution_count": null,
   "id": "c2b7d5f4",
   "metadata": {},
   "outputs": [],
   "source": [
    "def preprocess_data(train_samples_per_class=100, test_samples_per_class=20):\n",
    "    # Load the MNIST dataset\n",
    "    (x_train, y_train), (x_test, y_test) = tf.keras.datasets.mnist.load_data()\n",
    "\n",
    "    # Initialize empty lists to store the selected samples for training and testing\n",
    "    x_train_subset = []\n",
    "    y_train_subset = []\n",
    "    x_test_subset = []\n",
    "    y_test_subset = []\n",
    "\n",
    "    # Create a list of unique class labels\n",
    "    unique_classes = np.unique(y_train)\n",
    "\n",
    "    # Iterate through each class and select samples for training and testing\n",
    "    for class_label in unique_classes:\n",
    "        # Get the indices of samples for the current class\n",
    "        class_indices = np.where(y_train == class_label)[0]\n",
    "\n",
    "        # Randomly shuffle the indices to ensure randomness\n",
    "        np.random.shuffle(class_indices)\n",
    "\n",
    "        # Select the desired number of samples for training and testing from the current class\n",
    "        selected_indices_train = class_indices[:train_samples_per_class]\n",
    "        selected_indices_test = class_indices[train_samples_per_class:train_samples_per_class+test_samples_per_class]\n",
    "\n",
    "        # Add the selected training samples to the training subset\n",
    "        x_train_subset.extend(x_train[selected_indices_train])\n",
    "        y_train_subset.extend(y_train[selected_indices_train])\n",
    "\n",
    "        # Add the selected testing samples to the testing subset\n",
    "        x_test_subset.extend(x_train[selected_indices_test])\n",
    "        y_test_subset.extend(y_train[selected_indices_test])\n",
    "\n",
    "    # Convert the lists to NumPy arrays\n",
    "    x_train_subset = np.array(x_train_subset)\n",
    "    y_train_subset = np.array(y_train_subset)\n",
    "    x_test_subset = np.array(x_test_subset)\n",
    "    y_test_subset = np.array(y_test_subset)\n",
    "\n",
    "    # Preprocess the data by normalizing it\n",
    "    x_train_subset, x_test_subset = x_train_subset[..., np.newaxis] / 255.0, x_test_subset[..., np.newaxis] / 255.0\n",
    "\n",
    "    return x_train_subset, y_train_subset, x_test_subset, y_test_subset\n",
    "\n",
    "x_train_subset, y_train_subset, x_test_subset, y_test_subset = preprocess_data(train_samples_per_class=100, test_samples_per_class=20)\n"
   ]
  },
  {
   "cell_type": "code",
   "execution_count": null,
   "id": "c552c125",
   "metadata": {},
   "outputs": [],
   "source": [
    "x_train_subset.shape,x_test_subset.shape"
   ]
  },
  {
   "cell_type": "code",
   "execution_count": null,
   "id": "7cd26407",
   "metadata": {},
   "outputs": [],
   "source": [
    "# Define the client model\n",
    "def create_client_model():\n",
    "    model = tf.keras.Sequential([\n",
    "        tf.keras.layers.Flatten(input_shape=(28, 28)),\n",
    "        tf.keras.layers.Dense(128, activation='relu'),\n",
    "        tf.keras.layers.Dense(256, activation='relu'),\n",
    "        tf.keras.layers.Dense(10, activation='softmax')\n",
    "    ])\n",
    "    model.compile(optimizer=\"adam\", loss=\"sparse_categorical_crossentropy\", metrics=[\"accuracy\"])\n",
    "    return model"
   ]
  },
  {
   "cell_type": "code",
   "execution_count": null,
   "id": "c797b275",
   "metadata": {},
   "outputs": [],
   "source": [
    "from tensorflow.keras.utils import plot_model\n",
    "import visualkeras\n",
    "model=create_client_model()\n",
    "plot_model(model, to_file='model_architecture.png', show_shapes=True)\n",
    "visualkeras.layered_view(model)"
   ]
  },
  {
   "cell_type": "code",
   "execution_count": null,
   "id": "240e2e34",
   "metadata": {},
   "outputs": [],
   "source": [
    "model.get_weights()"
   ]
  },
  {
   "cell_type": "code",
   "execution_count": null,
   "id": "abbcc409",
   "metadata": {},
   "outputs": [],
   "source": [
    "PORT=5010"
   ]
  },
  {
   "cell_type": "code",
   "execution_count": null,
   "id": "0af7114d",
   "metadata": {},
   "outputs": [],
   "source": [
    "# Define the client logic\n",
    "class MnistClient(fl.client.NumPyClient):\n",
    "    def __init__(self, learning_rate=0.001, batch_size=32):\n",
    "        self.model = create_client_model()\n",
    "        self.x_train, self.y_train, self.x_test, self.y_test = preprocess_data()\n",
    "        self.learning_rate = learning_rate\n",
    "        self.batch_size = batch_size\n",
    "\n",
    "    def get_parameters(self,config=None):\n",
    "        return self.model.get_weights()\n",
    "    \n",
    "    \n",
    "    def fit(self, parameters, config=None):\n",
    "        optimizer = tf.keras.optimizers.Adam(learning_rate=self.learning_rate)\n",
    "        batch_size = self.batch_size\n",
    "        self.model.set_weights(parameters)\n",
    "        self.model.compile(optimizer=optimizer, loss=\"sparse_categorical_crossentropy\", metrics=[\"accuracy\"])\n",
    "        self.model.fit(self.x_train, self.y_train, batch_size=batch_size, epochs=1, verbose=1)\n",
    "        return self.model.get_weights(), len(self.x_train), {}\n",
    "\n",
    "\n",
    "    def evaluate(self, parameters, config=None):\n",
    "        self.model.set_weights(parameters)\n",
    "        loss, accuracy = self.model.evaluate(self.x_test, self.y_test, verbose=0)\n",
    "        return loss, len(self.x_test), {\"accuracy\": accuracy}\n",
    "\n",
    "# Start the Flower client\n",
    "fl.client.start_numpy_client(server_address='localhost:'+str(PORT), client=MnistClient(),grpc_max_message_length = 1024*1024*1024)\n"
   ]
  },
  {
   "cell_type": "code",
   "execution_count": null,
   "id": "01cf49c8",
   "metadata": {},
   "outputs": [],
   "source": [
    "cl=MnistClient()\n",
    "cl.get_parameters()"
   ]
  },
  {
   "cell_type": "code",
   "execution_count": null,
   "id": "d4f1b676",
   "metadata": {},
   "outputs": [],
   "source": []
  }
 ],
 "metadata": {
  "kernelspec": {
   "display_name": "Python 3 (ipykernel)",
   "language": "python",
   "name": "python3"
  },
  "language_info": {
   "codemirror_mode": {
    "name": "ipython",
    "version": 3
   },
   "file_extension": ".py",
   "mimetype": "text/x-python",
   "name": "python",
   "nbconvert_exporter": "python",
   "pygments_lexer": "ipython3",
   "version": "3.11.3"
  }
 },
 "nbformat": 4,
 "nbformat_minor": 5
}
