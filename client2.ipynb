{
 "cells": [
  {
   "cell_type": "code",
   "execution_count": 1,
   "id": "cfd4008d",
   "metadata": {},
   "outputs": [],
   "source": [
    "import flwr as fl\n",
    "import tensorflow as tf\n",
    "from tensorflow import keras\n",
    "import sys\n",
    "import seaborn as sns\n",
    "import matplotlib.pyplot as plt\n",
    "import numpy as np"
   ]
  },
  {
   "cell_type": "code",
   "execution_count": 11,
   "id": "c2b7d5f4",
   "metadata": {},
   "outputs": [],
   "source": [
    "def preprocess_data(train_samples_per_class=100, test_samples_per_class=20):\n",
    "    # Load the MNIST dataset\n",
    "    (x_train, y_train), (x_test, y_test) = tf.keras.datasets.mnist.load_data()\n",
    "\n",
    "    # Initialize empty lists to store the selected samples for training and testing\n",
    "    x_train_subset = []\n",
    "    y_train_subset = []\n",
    "    x_test_subset = []\n",
    "    y_test_subset = []\n",
    "\n",
    "    # Create a list of unique class labels\n",
    "    unique_classes = np.unique(y_train)\n",
    "\n",
    "    # Iterate through each class and select samples for training and testing\n",
    "    for class_label in unique_classes:\n",
    "        # Get the indices of samples for the current class\n",
    "        class_indices = np.where(y_train == class_label)[0]\n",
    "\n",
    "        # Randomly shuffle the indices to ensure randomness\n",
    "        np.random.shuffle(class_indices)\n",
    "\n",
    "        # Select the desired number of samples for training and testing from the current class\n",
    "        selected_indices_train = class_indices[:train_samples_per_class]\n",
    "        selected_indices_test = class_indices[train_samples_per_class:train_samples_per_class+test_samples_per_class]\n",
    "\n",
    "        # Add the selected training samples to the training subset\n",
    "        x_train_subset.extend(x_train[selected_indices_train])\n",
    "        y_train_subset.extend(y_train[selected_indices_train])\n",
    "\n",
    "        # Add the selected testing samples to the testing subset\n",
    "        x_test_subset.extend(x_train[selected_indices_test])\n",
    "        y_test_subset.extend(y_train[selected_indices_test])\n",
    "\n",
    "    # Convert the lists to NumPy arrays\n",
    "    x_train_subset = np.array(x_train_subset)\n",
    "    y_train_subset = np.array(y_train_subset)\n",
    "    x_test_subset = np.array(x_test_subset)\n",
    "    y_test_subset = np.array(y_test_subset)\n",
    "\n",
    "    # Preprocess the data by normalizing it\n",
    "    x_train_subset, x_test_subset = x_train_subset[..., np.newaxis] / 255.0, x_test_subset[..., np.newaxis] / 255.0\n",
    "\n",
    "    return x_train_subset, y_train_subset, x_test_subset, y_test_subset\n",
    "\n",
    "x_train_subset, y_train_subset, x_test_subset, y_test_subset = preprocess_data(train_samples_per_class=100, test_samples_per_class=20)\n"
   ]
  },
  {
   "cell_type": "code",
   "execution_count": 3,
   "id": "c552c125",
   "metadata": {},
   "outputs": [
    {
     "data": {
      "text/plain": [
       "((1000, 28, 28, 1), (200, 28, 28, 1))"
      ]
     },
     "execution_count": 3,
     "metadata": {},
     "output_type": "execute_result"
    }
   ],
   "source": [
    "x_train_subset.shape,x_test_subset.shape"
   ]
  },
  {
   "cell_type": "code",
   "execution_count": 4,
   "id": "7cd26407",
   "metadata": {},
   "outputs": [],
   "source": [
    "# Define the client model\n",
    "def create_client_model():\n",
    "    model = tf.keras.Sequential([\n",
    "        tf.keras.layers.Flatten(input_shape=(28, 28)),\n",
    "        tf.keras.layers.Dense(128, activation='relu'),\n",
    "        tf.keras.layers.Dense(256, activation='relu'),\n",
    "        tf.keras.layers.Dense(10, activation='softmax')\n",
    "    ])\n",
    "    model.compile(optimizer=\"adam\", loss=\"sparse_categorical_crossentropy\", metrics=[\"accuracy\"])\n",
    "    return model"
   ]
  },
  {
   "cell_type": "code",
   "execution_count": 5,
   "id": "c797b275",
   "metadata": {},
   "outputs": [
    {
     "name": "stdout",
     "output_type": "stream",
     "text": [
      "You must install pydot (`pip install pydot`) and install graphviz (see instructions at https://graphviz.gitlab.io/download/) for plot_model to work.\n"
     ]
    },
    {
     "data": {
      "image/png": "[encoded data removed]",
      "text/plain": [
       "<PIL.Image.Image image mode=RGBA size=201x27>"
      ]
     },
     "execution_count": 5,
     "metadata": {},
     "output_type": "execute_result"
    }
   ],
   "source": [
    "from tensorflow.keras.utils import plot_model\n",
    "import visualkeras\n",
    "model=create_client_model()\n",
    "plot_model(model, to_file='model_architecture.png', show_shapes=True)\n",
    "visualkeras.layered_view(model)"
   ]
  },
  {
   "cell_type": "code",
   "execution_count": 6,
   "id": "240e2e34",
   "metadata": {},
   "outputs": [
    {
     "data": {
      "text/plain": [
       "[array([[-0.05644973,  0.03650607, -0.08105209, ..., -0.02430679,\n",
       "         -0.00801607,  0.02015902],\n",
       "        [-0.02332864,  0.01300106, -0.06357176, ...,  0.06665432,\n",
       "         -0.0385451 , -0.07755464],\n",
       "        [-0.01035547, -0.05374467,  0.05990107, ...,  0.02780173,\n",
       "         -0.05767986,  0.00500762],\n",
       "        ...,\n",
       "        [-0.03176086, -0.02040316,  0.02116834, ..., -0.00333721,\n",
       "         -0.05005827, -0.07945918],\n",
       "        [ 0.0052898 ,  0.05675804, -0.03929036, ...,  0.05457688,\n",
       "         -0.05346359, -0.07951298],\n",
       "        [-0.06578673, -0.02806577,  0.06810481, ...,  0.00692996,\n",
       "         -0.08051791, -0.01169664]], dtype=float32),\n",
       " array([0., 0., 0., 0., 0., 0., 0., 0., 0., 0., 0., 0., 0., 0., 0., 0., 0.,\n",
       "        0., 0., 0., 0., 0., 0., 0., 0., 0., 0., 0., 0., 0., 0., 0., 0., 0.,\n",
       "        0., 0., 0., 0., 0., 0., 0., 0., 0., 0., 0., 0., 0., 0., 0., 0., 0.,\n",
       "        0., 0., 0., 0., 0., 0., 0., 0., 0., 0., 0., 0., 0., 0., 0., 0., 0.,\n",
       "        0., 0., 0., 0., 0., 0., 0., 0., 0., 0., 0., 0., 0., 0., 0., 0., 0.,\n",
       "        0., 0., 0., 0., 0., 0., 0., 0., 0., 0., 0., 0., 0., 0., 0., 0., 0.,\n",
       "        0., 0., 0., 0., 0., 0., 0., 0., 0., 0., 0., 0., 0., 0., 0., 0., 0.,\n",
       "        0., 0., 0., 0., 0., 0., 0., 0., 0.], dtype=float32),\n",
       " array([[-0.0505749 ,  0.04606751, -0.11929068, ...,  0.02137244,\n",
       "         -0.06059054,  0.05202729],\n",
       "        [ 0.07483113, -0.05725354,  0.09487155, ...,  0.05796152,\n",
       "         -0.10571477,  0.06083351],\n",
       "        [-0.03964186, -0.09641206,  0.11437014, ...,  0.00985149,\n",
       "          0.05547136,  0.08044446],\n",
       "        ...,\n",
       "        [-0.11734024,  0.09958246,  0.11941749, ...,  0.05044341,\n",
       "         -0.07576123,  0.01394215],\n",
       "        [ 0.08616772,  0.12220237,  0.05205631, ...,  0.04630294,\n",
       "          0.02487588,  0.03300688],\n",
       "        [ 0.06078392, -0.1084055 ,  0.08770728, ..., -0.10111091,\n",
       "          0.06129277,  0.1018818 ]], dtype=float32),\n",
       " array([0., 0., 0., 0., 0., 0., 0., 0., 0., 0., 0., 0., 0., 0., 0., 0., 0.,\n",
       "        0., 0., 0., 0., 0., 0., 0., 0., 0., 0., 0., 0., 0., 0., 0., 0., 0.,\n",
       "        0., 0., 0., 0., 0., 0., 0., 0., 0., 0., 0., 0., 0., 0., 0., 0., 0.,\n",
       "        0., 0., 0., 0., 0., 0., 0., 0., 0., 0., 0., 0., 0., 0., 0., 0., 0.,\n",
       "        0., 0., 0., 0., 0., 0., 0., 0., 0., 0., 0., 0., 0., 0., 0., 0., 0.,\n",
       "        0., 0., 0., 0., 0., 0., 0., 0., 0., 0., 0., 0., 0., 0., 0., 0., 0.,\n",
       "        0., 0., 0., 0., 0., 0., 0., 0., 0., 0., 0., 0., 0., 0., 0., 0., 0.,\n",
       "        0., 0., 0., 0., 0., 0., 0., 0., 0., 0., 0., 0., 0., 0., 0., 0., 0.,\n",
       "        0., 0., 0., 0., 0., 0., 0., 0., 0., 0., 0., 0., 0., 0., 0., 0., 0.,\n",
       "        0., 0., 0., 0., 0., 0., 0., 0., 0., 0., 0., 0., 0., 0., 0., 0., 0.,\n",
       "        0., 0., 0., 0., 0., 0., 0., 0., 0., 0., 0., 0., 0., 0., 0., 0., 0.,\n",
       "        0., 0., 0., 0., 0., 0., 0., 0., 0., 0., 0., 0., 0., 0., 0., 0., 0.,\n",
       "        0., 0., 0., 0., 0., 0., 0., 0., 0., 0., 0., 0., 0., 0., 0., 0., 0.,\n",
       "        0., 0., 0., 0., 0., 0., 0., 0., 0., 0., 0., 0., 0., 0., 0., 0., 0.,\n",
       "        0., 0., 0., 0., 0., 0., 0., 0., 0., 0., 0., 0., 0., 0., 0., 0., 0.,\n",
       "        0.], dtype=float32),\n",
       " array([[ 0.12274522, -0.09731109,  0.0727756 , ..., -0.14324813,\n",
       "          0.00636469, -0.02103172],\n",
       "        [-0.13242278,  0.04514089,  0.1299401 , ...,  0.14218375,\n",
       "         -0.14785814, -0.00431241],\n",
       "        [-0.021809  ,  0.09670357,  0.02862597, ..., -0.02470805,\n",
       "         -0.00027475,  0.03905812],\n",
       "        ...,\n",
       "        [ 0.00571939,  0.05826627, -0.01274227, ..., -0.07994635,\n",
       "         -0.09291084, -0.04888941],\n",
       "        [-0.13718021,  0.05243757,  0.14046946, ..., -0.14179155,\n",
       "          0.07374682,  0.1299147 ],\n",
       "        [-0.13477978, -0.06742058,  0.12216419, ..., -0.13843803,\n",
       "          0.01491697, -0.07454252]], dtype=float32),\n",
       " array([0., 0., 0., 0., 0., 0., 0., 0., 0., 0.], dtype=float32)]"
      ]
     },
     "execution_count": 6,
     "metadata": {},
     "output_type": "execute_result"
    }
   ],
   "source": [
    "model.get_weights()"
   ]
  },
  {
   "cell_type": "code",
   "execution_count": 7,
   "id": "abbcc409",
   "metadata": {},
   "outputs": [],
   "source": [
    "PORT=5010"
   ]
  },
  {
   "cell_type": "code",
   "execution_count": null,
   "id": "0af7114d",
   "metadata": {},
   "outputs": [
    {
     "name": "stderr",
     "output_type": "stream",
     "text": [
      "INFO flwr 2023-11-03 17:40:00,794 | grpc.py:49 | Opened insecure gRPC connection (no certificates were passed)\n",
      "DEBUG flwr 2023-11-03 17:40:00,817 | connection.py:42 | ChannelConnectivity.IDLE\n",
      "DEBUG flwr 2023-11-03 17:40:00,823 | connection.py:42 | ChannelConnectivity.READY\n"
     ]
    },
    {
     "name": "stdout",
     "output_type": "stream",
     "text": [
      "32/32 [==============================] - 2s 6ms/step - loss: 1.5122 - accuracy: 0.5490\n"
     ]
    }
   ],
   "source": [
    "# Define the client logic\n",
    "class MnistClient(fl.client.NumPyClient):\n",
    "    def __init__(self, learning_rate=0.001, batch_size=32):\n",
    "        self.model = create_client_model()\n",
    "        self.x_train, self.y_train, self.x_test, self.y_test = preprocess_data()\n",
    "        self.learning_rate = learning_rate\n",
    "        self.batch_size = batch_size\n",
    "\n",
    "    def get_parameters(self,config=None):\n",
    "        return self.model.get_weights()\n",
    "    \n",
    "    \n",
    "    def fit(self, parameters, config=None):\n",
    "        optimizer = tf.keras.optimizers.Adam(learning_rate=self.learning_rate)\n",
    "        batch_size = self.batch_size\n",
    "        self.model.set_weights(parameters)\n",
    "        self.model.compile(optimizer=optimizer, loss=\"sparse_categorical_crossentropy\", metrics=[\"accuracy\"])\n",
    "        self.model.fit(self.x_train, self.y_train, batch_size=batch_size, epochs=1, verbose=1)\n",
    "        return self.model.get_weights(), len(self.x_train), {}\n",
    "\n",
    "\n",
    "    def evaluate(self, parameters, config=None):\n",
    "        self.model.set_weights(parameters)\n",
    "        loss, accuracy = self.model.evaluate(self.x_test, self.y_test, verbose=0)\n",
    "        return loss, len(self.x_test), {\"accuracy\": accuracy}\n",
    "\n",
    "# Start the Flower client\n",
    "fl.client.start_numpy_client(server_address='localhost:'+str(PORT), client=MnistClient(),grpc_max_message_length = 1024*1024*1024)\n"
   ]
  },
  {
   "cell_type": "code",
   "execution_count": 9,
   "id": "01cf49c8",
   "metadata": {},
   "outputs": [
    {
     "data": {
      "text/plain": [
       "[array([[-0.03749718, -0.07887228, -0.02979475, ...,  0.00540863,\n",
       "         -0.05379724,  0.01651713],\n",
       "        [-0.02821155,  0.00611251,  0.02285513, ...,  0.06443251,\n",
       "          0.03561399,  0.0456214 ],\n",
       "        [-0.04603993,  0.01479301,  0.00112346, ..., -0.07992301,\n",
       "         -0.06754994, -0.03844707],\n",
       "        ...,\n",
       "        [ 0.0259298 ,  0.03359801, -0.06574246, ..., -0.01261174,\n",
       "         -0.01736881,  0.00695976],\n",
       "        [-0.0426014 ,  0.06605002,  0.05210688, ...,  0.02176531,\n",
       "         -0.01500161,  0.06764663],\n",
       "        [-0.00666784, -0.06883423,  0.0539613 , ...,  0.03659391,\n",
       "          0.0556917 , -0.06274236]], dtype=float32),\n",
       " array([0., 0., 0., 0., 0., 0., 0., 0., 0., 0., 0., 0., 0., 0., 0., 0., 0.,\n",
       "        0., 0., 0., 0., 0., 0., 0., 0., 0., 0., 0., 0., 0., 0., 0., 0., 0.,\n",
       "        0., 0., 0., 0., 0., 0., 0., 0., 0., 0., 0., 0., 0., 0., 0., 0., 0.,\n",
       "        0., 0., 0., 0., 0., 0., 0., 0., 0., 0., 0., 0., 0., 0., 0., 0., 0.,\n",
       "        0., 0., 0., 0., 0., 0., 0., 0., 0., 0., 0., 0., 0., 0., 0., 0., 0.,\n",
       "        0., 0., 0., 0., 0., 0., 0., 0., 0., 0., 0., 0., 0., 0., 0., 0., 0.,\n",
       "        0., 0., 0., 0., 0., 0., 0., 0., 0., 0., 0., 0., 0., 0., 0., 0., 0.,\n",
       "        0., 0., 0., 0., 0., 0., 0., 0., 0.], dtype=float32),\n",
       " array([[ 0.06401002,  0.09256566, -0.07430118, ..., -0.06972426,\n",
       "         -0.10229337, -0.05625954],\n",
       "        [ 0.07793409,  0.07362387,  0.09663665, ...,  0.01777953,\n",
       "         -0.11486593, -0.08295259],\n",
       "        [-0.11556411, -0.10930961,  0.05749312, ...,  0.06572738,\n",
       "         -0.05514336, -0.10706177],\n",
       "        ...,\n",
       "        [-0.00181621, -0.07270926, -0.07515794, ..., -0.11445045,\n",
       "          0.04322582,  0.10125604],\n",
       "        [ 0.0763441 ,  0.03071624, -0.0247103 , ..., -0.0842416 ,\n",
       "         -0.02201661,  0.09434241],\n",
       "        [ 0.07722905,  0.12415779, -0.03989777, ..., -0.01873323,\n",
       "         -0.00378108,  0.109689  ]], dtype=float32),\n",
       " array([0., 0., 0., 0., 0., 0., 0., 0., 0., 0., 0., 0., 0., 0., 0., 0., 0.,\n",
       "        0., 0., 0., 0., 0., 0., 0., 0., 0., 0., 0., 0., 0., 0., 0., 0., 0.,\n",
       "        0., 0., 0., 0., 0., 0., 0., 0., 0., 0., 0., 0., 0., 0., 0., 0., 0.,\n",
       "        0., 0., 0., 0., 0., 0., 0., 0., 0., 0., 0., 0., 0., 0., 0., 0., 0.,\n",
       "        0., 0., 0., 0., 0., 0., 0., 0., 0., 0., 0., 0., 0., 0., 0., 0., 0.,\n",
       "        0., 0., 0., 0., 0., 0., 0., 0., 0., 0., 0., 0., 0., 0., 0., 0., 0.,\n",
       "        0., 0., 0., 0., 0., 0., 0., 0., 0., 0., 0., 0., 0., 0., 0., 0., 0.,\n",
       "        0., 0., 0., 0., 0., 0., 0., 0., 0., 0., 0., 0., 0., 0., 0., 0., 0.,\n",
       "        0., 0., 0., 0., 0., 0., 0., 0., 0., 0., 0., 0., 0., 0., 0., 0., 0.,\n",
       "        0., 0., 0., 0., 0., 0., 0., 0., 0., 0., 0., 0., 0., 0., 0., 0., 0.,\n",
       "        0., 0., 0., 0., 0., 0., 0., 0., 0., 0., 0., 0., 0., 0., 0., 0., 0.,\n",
       "        0., 0., 0., 0., 0., 0., 0., 0., 0., 0., 0., 0., 0., 0., 0., 0., 0.,\n",
       "        0., 0., 0., 0., 0., 0., 0., 0., 0., 0., 0., 0., 0., 0., 0., 0., 0.,\n",
       "        0., 0., 0., 0., 0., 0., 0., 0., 0., 0., 0., 0., 0., 0., 0., 0., 0.,\n",
       "        0., 0., 0., 0., 0., 0., 0., 0., 0., 0., 0., 0., 0., 0., 0., 0., 0.,\n",
       "        0.], dtype=float32),\n",
       " array([[ 0.09639975, -0.14023359,  0.01891717, ...,  0.08409484,\n",
       "          0.02960481,  0.06713949],\n",
       "        [ 0.09256147,  0.10556224,  0.13893124, ..., -0.06509427,\n",
       "          0.06599182, -0.10743393],\n",
       "        [ 0.06676103,  0.12325203,  0.04800832, ...,  0.14667216,\n",
       "         -0.10971108, -0.07655076],\n",
       "        ...,\n",
       "        [ 0.01419255,  0.07949546,  0.07721986, ..., -0.09441186,\n",
       "         -0.12430255, -0.10364728],\n",
       "        [ 0.06609577,  0.0180212 ,  0.01261126, ...,  0.08960773,\n",
       "         -0.11316726, -0.08888002],\n",
       "        [-0.10876461, -0.089105  ,  0.00289601, ...,  0.02245873,\n",
       "          0.0610449 ,  0.05308121]], dtype=float32),\n",
       " array([0., 0., 0., 0., 0., 0., 0., 0., 0., 0.], dtype=float32)]"
      ]
     },
     "execution_count": 9,
     "metadata": {},
     "output_type": "execute_result"
    }
   ],
   "source": [
    "cl=MnistClient()\n",
    "cl.get_parameters()"
   ]
  },
  {
   "cell_type": "code",
   "execution_count": null,
   "id": "d4f1b676",
   "metadata": {},
   "outputs": [],
   "source": []
  }
 ],
 "metadata": {
  "kernelspec": {
   "display_name": "Python 3 (ipykernel)",
   "language": "python",
   "name": "python3"
  },
  "language_info": {
   "codemirror_mode": {
    "name": "ipython",
    "version": 3
   },
   "file_extension": ".py",
   "mimetype": "text/x-python",
   "name": "python",
   "nbconvert_exporter": "python",
   "pygments_lexer": "ipython3",
   "version": "3.11.3"
  }
 },
 "nbformat": 4,
 "nbformat_minor": 5
}
